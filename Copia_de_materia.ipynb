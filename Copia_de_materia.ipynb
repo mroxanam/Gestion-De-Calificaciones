{
  "nbformat": 4,
  "nbformat_minor": 0,
  "metadata": {
    "colab": {
      "provenance": [],
      "authorship_tag": "ABX9TyOEIogRhNemmPX08QQ8t295",
      "include_colab_link": true
    },
    "kernelspec": {
      "name": "python3",
      "display_name": "Python 3"
    },
    "language_info": {
      "name": "python"
    }
  },
  "cells": [
    {
      "cell_type": "markdown",
      "metadata": {
        "id": "view-in-github",
        "colab_type": "text"
      },
      "source": [
        "<a href=\"https://colab.research.google.com/github/mroxanam/Gestion-De-Calificaciones/blob/Nancy/Copia_de_materia.ipynb\" target=\"_parent\"><img src=\"https://colab.research.google.com/assets/colab-badge.svg\" alt=\"Open In Colab\"/></a>"
      ]
    },
    {
      "cell_type": "code",
      "execution_count": null,
      "metadata": {
        "id": "AjmQ2E48kHDk"
      },
      "outputs": [],
      "source": [
        "\n",
        "usuarios = {\n",
        "    'estudiante': {'dni': '12345678', 'contraseña': '123456'},\n",
        "    'profesor': {'dni': '23456789', 'contraseña': '654321'},\n",
        "    'preceptor': {'dni': '34567890', 'contraseña': '987654'},\n",
        "    'directivo': {'dni': '45678901', 'contraseña': '456789'}\n",
        "}\n",
        "\n",
        "materias = {\n",
        "    'Matemáticas': ['Álgebra', 'Cálculo', 'Estadística'],\n",
        "    'Ciencias': ['Física', 'Química', 'Biología'],\n",
        "    'Historia': ['Historia Antigua', 'Historia Moderna', 'Historia del Arte'],\n",
        "    'Literatura': ['Poesía', 'Novela', 'Teatro']\n",
        "}\n",
        "\n",
        "def ingresar_sistema():\n",
        "    tipo_usuario = input(\"Ingrese el tipo de usuario (estudiante, profesor, preceptor, directivo): \")\n",
        "\n",
        "    if tipo_usuario in usuarios:\n",
        "        dni = input(\"Ingrese su número de DNI: \")\n",
        "        contraseña = input(\"Ingrese su contraseña de 6 números: \")\n",
        "\n",
        "        if dni == usuarios[tipo_usuario]['dni'] and contraseña == usuarios[tipo_usuario]['contraseña']:\n",
        "            print(\"Bienvenido/a, ha ingresado al sistema correctamente.\")\n",
        "            elegir_carrera()\n",
        "        else:\n",
        "            print(\"Error: DNI o contraseña incorrectos.\")\n",
        "    else:\n",
        "        print(\"Error: Tipo de usuario no válido.\")\n",
        "\n",
        "def elegir_carrera():\n",
        "    print(\"Listado de carreras disponibles:\")\n",
        "    carreras = list(materias.keys())\n",
        "    for i, carrera in enumerate(carreras, 1):\n",
        "        print(f\"{i}. {carrera}\")\n",
        "\n",
        "    opcion = int(input(\"Seleccione una carrera (ingrese el número correspondiente): \"))\n",
        "\n",
        "    if opcion >= 1 and opcion <= len(carreras):\n",
        "        carrera_elegida = carreras[opcion - 1]\n",
        "        print(f\"Ha elegido la carrera: {carrera_elegida}\")\n",
        "        elegir_materia(carrera_elegida)\n",
        "    else:\n",
        "        print(\"Error: Opción inválida.\")\n",
        "\n",
        "def elegir_materia(carrera):\n",
        "    print(f\"Listado de materias disponibles para la carrera {carrera}:\")\n",
        "    materias_carrera = materias[carrera]\n",
        "    for i, materia in enumerate(materias_carrera, 1):\n",
        "        print(f\"{i}. {materia}\")\n",
        "\n",
        "    opcion = int(input(\"Seleccione una materia (ingrese el número correspondiente): \"))\n",
        "\n",
        "    if opcion >= 1 and opcion <= len(materias_carrera):\n",
        "        materia_elegida = materias_carrera[opcion - 1]\n",
        "        print(f\"Ha elegido la materia: {materia_elegida}\")\n",
        "        # Puedes realizar aquí las acciones correspondientes para la materia seleccionada\n",
        "    else:\n",
        "        print(\"Error: Opción inválida.\")\n",
        "\n",
        "# Llamada a la función principal\n",
        "ingresar_sistema()"
      ]
    }
  ]
}