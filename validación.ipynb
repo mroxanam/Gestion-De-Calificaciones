{
  "nbformat": 4,
  "nbformat_minor": 0,
  "metadata": {
    "colab": {
      "provenance": [],
      "authorship_tag": "ABX9TyOb5RZgrHt0XQYt3b0mThzo",
      "include_colab_link": true
    },
    "kernelspec": {
      "name": "python3",
      "display_name": "Python 3"
    },
    "language_info": {
      "name": "python"
    }
  },
  "cells": [
    {
      "cell_type": "markdown",
      "metadata": {
        "id": "view-in-github",
        "colab_type": "text"
      },
      "source": [
        "<a href=\"https://colab.research.google.com/github/mroxanam/Gestion-De-Calificaciones/blob/Nancy/validaci%C3%B3n.ipynb\" target=\"_parent\"><img src=\"https://colab.research.google.com/assets/colab-badge.svg\" alt=\"Open In Colab\"/></a>"
      ]
    },
    {
      "cell_type": "code",
      "execution_count": null,
      "metadata": {
        "id": "qqn9xR0ZjxbO"
      },
      "outputs": [],
      "source": [
        "\n",
        "def validar_ingreso(usuario, dni, contraseña):\n",
        "# Validar tipo de usuario\n",
        "if usuario == \"estudiante\" or usuario == \"profesor\" or usuario == \"preceptor\" or usuario == \"directivo\":\n",
        "# Validar longitud del DNI y contraseña\n",
        "if len(str(dni)) == 8 and len(str(contraseña)) == 6:\n",
        "# Validar que la contraseña sea numérica\n",
        "if str(contraseña).isdigit():\n",
        "print(\"Ingreso al sistema exitoso.\")\n",
        "else:\n",
        "print(\"La contraseña debe ser un número.\")\n",
        "else:\n",
        "print(\"El DNI y la contraseña deben tener la longitud correcta.\")\n",
        "else:\n",
        "print(\"Tipo de usuario inválido.\")"
      ]
    }
  ]
}