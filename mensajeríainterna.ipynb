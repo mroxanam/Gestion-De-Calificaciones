{
  "nbformat": 4,
  "nbformat_minor": 0,
  "metadata": {
    "colab": {
      "provenance": [],
      "authorship_tag": "ABX9TyPpXYu6xsr0GFN8WlRuS6p1",
      "include_colab_link": true
    },
    "kernelspec": {
      "name": "python3",
      "display_name": "Python 3"
    },
    "language_info": {
      "name": "python"
    }
  },
  "cells": [
    {
      "cell_type": "markdown",
      "metadata": {
        "id": "view-in-github",
        "colab_type": "text"
      },
      "source": [
        "<a href=\"https://colab.research.google.com/github/mroxanam/Gestion-De-Calificaciones/blob/Nancy/mensajer%C3%ADainterna.ipynb\" target=\"_parent\"><img src=\"https://colab.research.google.com/assets/colab-badge.svg\" alt=\"Open In Colab\"/></a>"
      ]
    },
    {
      "cell_type": "code",
      "execution_count": null,
      "metadata": {
        "id": "fVYcITfGHVn5"
      },
      "outputs": [],
      "source": [
        "usuarios = {\n",
        "    'estudiante1': {'dni': '12345678', 'contraseña': '123456'},\n",
        "    'estudiante2': {'dni': '23456789', 'contraseña': '654321'},\n",
        "    'profesor1': {'dni': '34567890', 'contraseña': '987654'},\n",
        "    'profesor2': {'dni': '45678901', 'contraseña': '456789'}\n",
        "}\n",
        "\n",
        "def ingresar_sistema():\n",
        "    tipo_usuario = input(\"Ingrese el tipo de usuario (estudiante, profesor): \")\n",
        "\n",
        "    if tipo_usuario in usuarios:\n",
        "        dni = input(\"Ingrese su número de DNI: \")\n",
        "        contraseña = input(\"Ingrese su contraseña de 6 números: \")\n",
        "\n",
        "        if dni == usuarios[tipo_usuario]['dni'] and contraseña == usuarios[tipo_usuario]['contraseña']:\n",
        "            print(\"Bienvenido/a, ha ingresado al sistema correctamente.\")\n",
        "            enviar_mensaje()\n",
        "        else:\n",
        "            print(\"Error: DNI o contraseña incorrectos.\")\n",
        "    else:\n",
        "        print(\"Error: Tipo de usuario no válido.\")\n",
        "\n",
        "def enviar_mensaje():\n",
        "    destinatario = input(\"Ingrese el nombre del destinatario: \")\n",
        "    mensaje = input(\"Escriba su mensaje: \")\n",
        "\n",
        "    if destinatario in usuarios:\n",
        "        print(f\"Mensaje enviado a {destinatario}: {mensaje}\")\n",
        "        # Puedes agregar aquí la lógica para enviar el mensaje al destinatario\n",
        "    else:\n",
        "        print(\"Error: Destinatario no válido.\")\n",
        "\n",
        "# Llamada a la función principal\n",
        "ingresar_sistema()"
      ]
    }
  ]
}