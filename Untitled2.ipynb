{
  "nbformat": 4,
  "nbformat_minor": 0,
  "metadata": {
    "colab": {
      "provenance": [],
      "toc_visible": true,
      "authorship_tag": "ABX9TyOB8oTPlB5+tUCmiHtsXG8P",
      "include_colab_link": true
    },
    "kernelspec": {
      "name": "python3",
      "display_name": "Python 3"
    },
    "language_info": {
      "name": "python"
    }
  },
  "cells": [
    {
      "cell_type": "markdown",
      "metadata": {
        "id": "view-in-github",
        "colab_type": "text"
      },
      "source": [
        "<a href=\"https://colab.research.google.com/github/mroxanam/Gestion-De-Calificaciones/blob/Natalia/Untitled2.ipynb\" target=\"_parent\"><img src=\"https://colab.research.google.com/assets/colab-badge.svg\" alt=\"Open In Colab\"/></a>"
      ]
    },
    {
      "cell_type": "code",
      "execution_count": null,
      "metadata": {
        "id": "1aF9I9ZPPaUH"
      },
      "outputs": [],
      "source": []
    },
    {
      "cell_type": "code",
      "source": [
        "def validar_ingreso(usuario, dni, contraseña):\n",
        "# Validar tipo de usuario\n",
        "if usuario == \"estudiante\" or usuario == \"profesor\" or usuario == \"preceptor\" or usuario == \"directivo\":\n",
        "# Validar longitud del DNI y contraseña\n",
        "if len(str(dni)) == 8 and len(str(contraseña)) == 6:\n",
        "# Validar que la contraseña sea numérica\n",
        "if str(contraseña).isdigit():\n",
        "print(\"Ingreso al sistema exitoso.\")\n",
        "else:\n",
        "print(\"La contraseña debe ser un número.\")\n",
        "else:\n",
        "print(\"El DNI y la contraseña deben tener la longitud correcta.\")\n",
        "else:\n",
        "print(\"Tipo de usuario inválido.\")"
      ],
      "metadata": {
        "id": "6t5OsuC4QVvU"
      },
      "execution_count": null,
      "outputs": []
    }
  ]
}