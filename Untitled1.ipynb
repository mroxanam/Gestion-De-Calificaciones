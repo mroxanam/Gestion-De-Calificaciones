{
  "nbformat": 4,
  "nbformat_minor": 0,
  "metadata": {
    "colab": {
      "provenance": [],
      "authorship_tag": "ABX9TyPEZHoMZMSJx5cpDWKoAYjP",
      "include_colab_link": true
    },
    "kernelspec": {
      "name": "python3",
      "display_name": "Python 3"
    },
    "language_info": {
      "name": "python"
    }
  },
  "cells": [
    {
      "cell_type": "markdown",
      "metadata": {
        "id": "view-in-github",
        "colab_type": "text"
      },
      "source": [
        "<a href=\"https://colab.research.google.com/github/mroxanam/Gestion-De-Calificaciones/blob/candela/Untitled1.ipynb\" target=\"_parent\"><img src=\"https://colab.research.google.com/assets/colab-badge.svg\" alt=\"Open In Colab\"/></a>"
      ]
    },
    {
      "cell_type": "code",
      "execution_count": null,
      "metadata": {
        "id": "9F4iUdprCu2y"
      },
      "outputs": [],
      "source": [
        "usuarios = {\n",
        "    'estudiante1': {'dni': '12345678', 'contraseña': '123456', 'tipo': 'estudiante'},\n",
        "    'estudiante2': {'dni': '23456789', 'contraseña': '654321', 'tipo': 'estudiante'},\n",
        "    'profesor1': {'dni': '34567890', 'contraseña': '987654', 'tipo': 'profesor'},\n",
        "    'profesor2': {'dni': '45678901', 'contraseña': '456789', 'tipo': 'profesor'},\n",
        "    'preceptor1': {'dni': '56789012', 'contraseña': '789012', 'tipo': 'preceptor'},\n",
        "    'preceptor2': {'dni': '67890123', 'contraseña': '890123', 'tipo': 'preceptor'}\n",
        "}\n",
        "\n",
        "def ingresar_sistema():\n",
        "    tipo_usuario = input(\"Ingrese el tipo de usuario (estudiante, profesor, preceptor): \")\n",
        "\n",
        "    if tipo_usuario in ['estudiante', 'profesor', 'preceptor']:\n",
        "        dni = input(\"Ingrese su número de DNI: \")\n",
        "        contraseña = input(\"Ingrese su contraseña de 6 números: \")\n",
        "\n",
        "        if validar_credenciales(tipo_usuario, dni, contraseña):\n",
        "            print(\"Bienvenido/a, ha ingresado al sistema correctamente.\")\n",
        "            menu_acciones(tipo_usuario)\n",
        "        else:\n",
        "            print(\"Error: DNI o contraseña incorrectos.\")\n",
        "    else:\n",
        "        print(\"Error: Tipo de usuario no válido.\")\n",
        "\n",
        "def validar_credenciales(tipo_usuario, dni, contraseña):\n",
        "    if tipo_usuario in usuarios:\n",
        "        if dni == usuarios[tipo_usuario]['dni'] and contraseña == usuarios[tipo_usuario]['contraseña']:\n",
        "            return True\n",
        "    return False\n",
        "\n",
        "def ver_calificaciones():\n",
        "    print(\"Mostrando calificaciones...\")\n",
        "\n",
        "def enviar_mensaje():\n",
        "    print(\"Enviando mensaje interno...\")\n",
        "\n",
        "def ingresar_notas():\n",
        "    print(\"Ingresando notas...\")\n",
        "\n",
        "def modificar_notas():\n",
        "    print(\"Modificando notas...\")\n",
        "\n",
        "def borrar_notas():\n",
        "    print(\"Borrando notas...\")\n",
        "\n",
        "def registrar_asistencia():\n",
        "    print(\"Registrando asistencia...\")\n",
        "\n",
        "def menu_acciones(tipo_usuario):\n",
        "    while True:\n",
        "        print(\"\\n----- MENÚ DE ACCIONES -----\")\n",
        "        print(\"1. Ver calificaciones\")\n",
        "        print(\"2. Enviar mensaje interno\")\n",
        "\n",
        "        if tipo_usuario == 'profesor':\n",
        "            print(\"3. Ingresar notas\")\n",
        "            print(\"4. Modificar notas\")\n",
        "            print(\"5. Borrar notas\")\n",
        "\n",
        "        if tipo_usuario == 'preceptor':\n",
        "            print(\"6. Registrar asistencia\")\n",
        "\n",
        "        print(\"0. Salir\")\n",
        "\n",
        "        opcion = input(\"Seleccione una opción: \")\n",
        "\n",
        "        if opcion == '1':\n",
        "            ver_calificaciones()\n",
        "        elif opcion == '2':\n",
        "            enviar_mensaje()\n",
        "        elif opcion == '3' and tipo_usuario == 'profesor':\n",
        "            ingresar_notas()\n",
        "        elif opcion == '4' and tipo_usuario == 'profesor':\n",
        "            modificar_notas()\n",
        "        elif opcion == '5' and tipo_usuario == 'profesor':\n",
        "            borrar_notas()\n",
        "        elif opcion == '6' and tipo_usuario == 'preceptor':\n",
        "            registrar_asistencia()\n",
        "        elif opcion == '0':\n",
        "            break\n",
        "        else:\n",
        "            print(\"Error: Opción inválida.\")\n",
        "\n",
        "        volver = input(\"Presione 'V' para volver al menú anterior, o cualquier otra tecla para continuar: \")\n",
        "        if volver.lower() == 'v':\n",
        "            break\n",
        "\n",
        "# Llamada a la función principal\n",
        "ingresar_sistema()"
      ]
    }
  ]
}