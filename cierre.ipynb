{
  "nbformat": 4,
  "nbformat_minor": 0,
  "metadata": {
    "colab": {
      "provenance": [],
      "authorship_tag": "ABX9TyP7ObrUC0AnG+yctYrkhlG2",
      "include_colab_link": true
    },
    "kernelspec": {
      "name": "python3",
      "display_name": "Python 3"
    },
    "language_info": {
      "name": "python"
    }
  },
  "cells": [
    {
      "cell_type": "markdown",
      "metadata": {
        "id": "view-in-github",
        "colab_type": "text"
      },
      "source": [
        "<a href=\"https://colab.research.google.com/github/mroxanam/Gestion-De-Calificaciones/blob/candela/cierre.ipynb\" target=\"_parent\"><img src=\"https://colab.research.google.com/assets/colab-badge.svg\" alt=\"Open In Colab\"/></a>"
      ]
    },
    {
      "cell_type": "code",
      "execution_count": null,
      "metadata": {
        "id": "hjOT28xnPwvR"
      },
      "outputs": [],
      "source": [
        "def cerrar_sesion():\n",
        "    global sesion_activa, usuario_actual\n",
        "    sesion_activa = False\n",
        "    usuario_actual = {}\n",
        "    print(\"Sesión cerrada. Los datos han sido limpiados.\")"
      ]
    }
  ]
}